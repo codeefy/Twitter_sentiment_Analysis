{
  "cells": [
    {
      "cell_type": "code",
      "execution_count": 1,
      "metadata": {
        "id": "y5jbFEfeMvI7",
        "colab": {
          "base_uri": "https://localhost:8080/"
        },
        "outputId": "e166663f-a66a-4ce5-9a75-f27276b712f1"
      },
      "outputs": [
        {
          "output_type": "stream",
          "name": "stderr",
          "text": [
            "[nltk_data] Downloading package movie_reviews to /root/nltk_data...\n",
            "[nltk_data]   Unzipping corpora/movie_reviews.zip.\n"
          ]
        },
        {
          "output_type": "execute_result",
          "data": {
            "text/plain": [
              "True"
            ]
          },
          "metadata": {},
          "execution_count": 1
        }
      ],
      "source": [
        "import nltk\n",
        "nltk.download('movie_reviews')"
      ]
    },
    {
      "cell_type": "markdown",
      "metadata": {
        "id": "7jqMQL6VMvJE"
      },
      "source": [
        "# Sentiment Analysis using Naive Bayes"
      ]
    },
    {
      "cell_type": "markdown",
      "metadata": {
        "id": "Ijh3UrWyMvJJ"
      },
      "source": [
        "You will be implementing Naive Bayes classifier using NLTK which stands for Natural Language Toolkit. It is a library dedicated to NLP and NLU related tasks. NLTK's documentation- http://www.nltk.org/"
      ]
    },
    {
      "cell_type": "code",
      "execution_count": 2,
      "metadata": {
        "id": "VNlo1N0CMvJK"
      },
      "outputs": [],
      "source": [
        "import nltk\n",
        "from nltk.corpus import movie_reviews\n",
        "import random"
      ]
    },
    {
      "cell_type": "code",
      "execution_count": 4,
      "metadata": {
        "id": "SKzhw90hMvJO",
        "outputId": "e905d523-715c-4537-f83a-82bedf40a306",
        "colab": {
          "base_uri": "https://localhost:8080/"
        }
      },
      "outputs": [
        {
          "output_type": "stream",
          "name": "stdout",
          "text": [
            "['neg', 'pos']\n",
            "and now the high-flying hong kong style of filmmaking has made its way down to the classics , and it isn't pretty . \n",
            "this time out the nod to asia goes by way of france in the excruciating bland and lukewarm production of the musketeer , a version of dumas's the three musketeers . \n",
            "by bringing in popular asian actor/stunt coordinator xing xing xiong -- whose only prior american attempts at stunt choreography have been the laughable van damme vehicle double team and the dennis rodman cinematic joke simon sez -- our musketeers are thrown into the air to do their fighting . \n",
            "the end result is a tepid and dull action/adventure rip-off that stinks of indiana jones and bad asian kung fu . \n",
            "the story is so simple my grandmother could have adapted the screenplay . \n",
            "d'artagnan ( justin chambers ) is the vengeful son of a slain musketeer . \n",
            "he travels to paris to join the royal musketeers and find the man that killed his parents . \n",
            "in paris , he meets the cunning cardinal richelieu ( stephen rea ) , who is trying to overthrow the king , and richelieu's man-in-black associate febre ( tim roth ) , the killer of his folks . \n",
            "he finds the musketeers in paris disbanded and drunk , so he rounds up aramis ( nick moran ) , athos ( jan gregor kremp ) and porthos ( steven spiers ) to free the musketeer's wrongfully imprisoned leader treville from the king's prison . \n",
            "d'artagnan and his new frisky love interest/chambermaid francesca ( mena suvari ) play footsy and coo at each other as the cardinal hunts down the musketeers until finally the queen ( catherine deneuve ) ends up being captured by the menancing febre , forcing the musketeers to regroup , with d'artagnan leading the charge , and save the day . \n",
            "director peter hyams ( end of days ) obviously wanted to blend eastern and western filmmaking styles , but here it's a disaster . \n",
            "one problem is that , in reality , most eastern films have taken their lead from western ones . \n",
            "jet li's high risk is a rip-off of die hard -- not the other way around . \n",
            "ironically , there is awfully little swordplay or action in the film at all -- maybe ten minutes of swashbuckling spread over five scenes . \n",
            "most asian action films carry the bulk of their production with 20- to 30-minute action sequences , because they know the scenes have to carry the picture . \n",
            "the musketeer instead weighs itself down with a predictable and monotonous screenplay by gene quintano ( sudden death ) , horrible acting by stephen rea and tim roth , and the prosaic attempt of justin chambers ( the wedding planner ) to deliver his mousy self as a leader . \n",
            "chambers' d'artangnan isn't a musketeer -- he's a mouseketeer ! \n",
            "and hyam's use of candles and torches to light the grime and filth of 17th century paris are well-noted , but that's the only standout in an overall flat production . \n",
            "\n"
          ]
        }
      ],
      "source": [
        "print(movie_reviews.categories())\n",
        "# print(movie_reviews.fileids('neg'))\n",
        "f = movie_reviews.open('neg/cv012_29411.txt')\n",
        "d = f.read()\n",
        "print(d)\n",
        "f.close()"
      ]
    },
    {
      "cell_type": "markdown",
      "metadata": {
        "id": "5cL7uaVGMvJR"
      },
      "source": [
        "You will construct a list of documents, labeled with the appropriate categories."
      ]
    },
    {
      "cell_type": "code",
      "source": [
        "movie_reviews.words('neg/cv012_29411.txt')"
      ],
      "metadata": {
        "colab": {
          "base_uri": "https://localhost:8080/"
        },
        "id": "J3aV40HFDn9e",
        "outputId": "a936a45b-c0a2-4aa6-e9e3-49117e9c124f"
      },
      "execution_count": 5,
      "outputs": [
        {
          "output_type": "execute_result",
          "data": {
            "text/plain": [
              "['and', 'now', 'the', 'high', '-', 'flying', 'hong', ...]"
            ]
          },
          "metadata": {},
          "execution_count": 5
        }
      ]
    },
    {
      "cell_type": "code",
      "execution_count": 6,
      "metadata": {
        "id": "Trb8yENfMvJS"
      },
      "outputs": [],
      "source": [
        "documents = [(list(movie_reviews.words(fileid)), category)\n",
        "              for category in movie_reviews.categories()\n",
        "              for fileid in movie_reviews.fileids(category)]\n",
        "\n",
        "random.shuffle(documents)"
      ]
    },
    {
      "cell_type": "code",
      "source": [
        "print(documents[0])"
      ],
      "metadata": {
        "colab": {
          "base_uri": "https://localhost:8080/"
        },
        "id": "Oi8Medp2amK3",
        "outputId": "3702bf38-6f15-4ab0-efd8-8469a9c83319"
      },
      "execution_count": 7,
      "outputs": [
        {
          "output_type": "stream",
          "name": "stdout",
          "text": [
            "(['new', 'address', '.', 'same', 'old', 'attitude', '.', 'don', \"'\", 't', 'forget', 'to', 'recommend', 'a', 'film', ',', 'read', 'the', 'journal', ',', 'or', 'send', 'me', 'some', 'of', 'that', 'nasty', 'hate', 'mail', '.', ')', 'starring', 'bruce', 'willis', ',', 'billy', 'bob', 'thornton', ',', 'liv', 'tyler', ',', 'ben', 'affleck', 'written', 'by', 'jonathan', 'hensleigh', 'and', 'j', '.', 'j', '.', 'abrams', 'directed', 'by', 'michael', 'bay', 'it', 'rocks', '-', 'actually', ',', 'lots', 'of', 'rocks', 'fly', 'at', 'us', 'or', 'from', 'us', ',', 'in', 'slow', 'or', 'fast', 'motion', ',', 'at', 'several', 'points', 'in', 'the', 'film', '.', 'they', 'seem', 'like', 'dangerous', 'rocks', 'because', 'they', 'kind', 'of', 'twirl', 'through', 'the', 'air', 'instead', 'of', 'just', 'propelling', 'forward', ',', 'and', 'when', 'they', 'land', '-', 'once', 'in', 'a', 'while', ',', 'when', 'we', 'need', 'a', 'break', 'from', 'the', 'space', 'sequences', '-', 'they', 'cause', 'damage', 'enough', 'to', 'destroy', 'the', 'chrysler', 'building', 'and', 'the', 'like', '.', '(', 'nary', 'a', 'mention', 'of', 'these', 'apocalyptic', 'events', 'is', 'made', 'after', 'they', 'occur', '.', ')', 'they', 'also', 'just', 'might', 'be', 'the', 'most', 'interesting', 'element', 'of', 'armageddon', ',', 'a', 'steroid', 'user', \"'\", 's', 'answer', 'to', 'deep', 'impact', '.', 'bruce', 'willis', 'stars', 'as', 'harry', 'stamper', ',', 'a', 'famed', 'oil', '-', 'driller', 'commissioned', 'by', 'the', 'white', 'house', 'and', 'nasa', 'to', 'stop', 'a', 'giant', 'asteroid', 'before', 'it', 'travels', 'beyond', '\"', 'zero', 'barrier', '\"', 'and', 'destroys', 'our', 'planet', '.', 'why', 'an', 'oil', 'driller', '?', 'they', 'require', 'someone', 'experienced', 'with', 'deep', '-', 'core', 'mining', 'to', 'plant', 'a', 'nuclear', 'missile', 'into', 'said', 'asteroid', '.', '(', 'in', 'one', 'unintentionally', '(', '?', ')', 'hilarious', 'sequence', ',', 'nasa', 'asks', 'harry', 'to', 'inspect', 'a', 'deep', '-', 'core', 'driller', 'they', 'built', 'based', 'on', 'his', 'own', 'blueprints', ';', 'it', 'is', 'poorly', 'constructed', '-', 'harry', 'criticizes', 'almost', 'every', 'aspect', 'of', 'it', '.', 'we', 'trust', 'nasa', 'to', 'build', 'space', 'shuttles', 'that', 'can', 'land', 'on', 'twirling', 'asteroids', '?', ')', 'harry', 'assembles', 'the', 'obligatory', '\"', 'ragtag', '\"', 'bunch', 'of', '\"', 'cowboys', '\"', ',', 'including', 'a', 'blond', 'guy', ',', 'a', 'fat', 'guy', ',', 'a', 'black', 'guy', ',', 'a', 'wiseass', ',', 'and', 'the', 'man', 'who', 'is', 'sleeping', 'with', 'his', 'daughter', '(', 'affleck', ')', '.', 'once', 'they', 'reach', 'space', ',', 'we', 'experience', 'sequence', 'after', 'sequence', 'of', 'something', 'going', 'wrong', '-', 'perhaps', 'the', 'fact', 'that', 'they', 'sent', 'a', 'bunch', 'of', 'nincompoops', 'into', 'outer', 'space', 'has', 'something', 'to', 'do', 'with', 'it', ';', 'i', 'cannot', 'count', 'the', 'number', 'of', 'times', 'they', 'almost', 'fail', 'the', 'mission', 'on', 'all', 'my', 'fingers', 'and', 'toes', '.', 'whether', 'or', 'not', 'they', 'save', 'the', 'day', ',', 'i', 'will', 'not', 'reveal', '.', 'nor', 'will', 'you', 'care', '.', 'i', 'will', 'say', 'this', ':', 'you', 'know', 'you', \"'\", 're', 'in', 'trouble', 'when', 'deep', 'impact', 'dwarfs', 'your', 'asteroid', 'movie', 'in', 'terms', 'of', 'emotion', 'and', 'scope', '.', 'willis', 'has', 'barely', 'a', 'chance', 'to', 'come', 'alive', ';', 'ditto', 'for', 'affleck', '.', 'their', 'big', 'scenes', 'are', 'mostly', 'reserved', 'for', 'the', 'third', 'act', ',', 'in', 'a', 'last', 'minute', '-', 'and', 'futile', '-', 'attempt', 'to', 'inject', 'warmth', 'into', 'the', 'material', '.', 'steve', 'buscemi', \"'\", 's', 'character', '-', 'the', 'wiseass', '-', 'is', 'exceptionally', 'problematic', '.', '\"', 'rockhound', '\"', ',', 'as', 'he', \"'\", 's', 'called', ',', 'is', 'sarcastic', 'and', 'foolish', ',', 'so', 'they', 'tape', 'him', 'to', 'a', 'chair', ',', 'where', 'he', 'spends', 'most', 'of', 'the', 'film', '.', 'so', 'why', 'did', 'they', 'bring', 'him', 'up', 'there', 'to', 'begin', 'with', '?', 'rather', ',', 'why', 'write', 'him', 'into', 'the', 'film', '?', '-', 'give', 'his', 'almost', '-', 'witty', 'one', '-', 'liners', 'to', 'serious', 'willis', ',', 'who', 'scowls', 'and', 'mopes', 'and', 'demonstrates', 'psychotic', 'tendencies', ':', 'at', 'one', 'point', 'he', 'chases', 'after', 'affleck', 'with', 'his', 'shotgun', 'for', 'screwing', 'his', 'daughter', ',', 'firing', 'often', 'and', 'causing', 'significant', 'damage', 'to', 'his', 'oil', 'rig', '.', 'i', \"'\", 'm', 'guessing', 'he', 'qualifies', 'under', 'nasa', 'guidelines', 'as', 'someone', 'unfit', 'for', 'space', 'travel', ',', 'at', 'least', 'in', 'my', 'world', 'where', 'the', 'sky', 'is', 'blue', '.', 'liv', 'tyler', 'is', 'pretty', 'and', 'humourless', ',', 'as', 'always', ';', 'suspiciously', ',', 'four', 'of', 'her', 'father', \"'\", 's', 'band', \"'\", 's', '(', '\"', 'aerosmith', '\"', ')', 'songs', 'grace', 'the', 'soundtrack', '.', 'director', 'michael', 'bay', 'lays', 'the', 'visual', 'and', 'sound', 'effects', 'on', 'thick', ',', 'like', 'ketchup', ',', 'eventually', 'drowning', 'the', 'movie', 'on', '-', 'screen', '.', '(', 'the', 'middle', 'hour', 'is', 'a', 'non', '-', 'sensical', ',', 'pyrotechnic', 'assault', 'on', 'the', 'average', 'primate', \"'\", 's', 'brain', '.', ')', 'whenever', 'someone', 'dies', 'in', 'this', 'movie', ',', 'a', 'crew', 'member', 'inevitably', 'yells', 'out', '\"', 'we', 'lost', '(', 'insert', 'dead', 'person', \"'\", 's', 'last', 'name', 'here', ')', '!', '\"', 'i', 'must', 'admit', 'that', 'not', 'once', 'could', 'i', 'distinguish', 'a', 'dead', 'oil', '-', 'guy', '-', 'cum', '-', 'astronaut', 'from', 'a', 'live', 'one', ',', 'and', 'close', '-', 'ups', 'of', 'the', 'corpses', \"'\", 'faces', 'beneath', 'cracked', 'helmets', 'provided', 'little', 'assistance', ',', 'as', 'their', 'skin', 'was', 'often', 'covered', 'in', 'fake', 'blood', '.', 'armageddon', 'is', 'not', 'as', 'terrible', 'movie', 'as', 'godzilla', '.', 'it', 'looks', 'nicer', ',', 'and', 'has', 'fewer', 'plot', '-', 'holes', 'within', 'its', 'equally', 'ludicrous', 'framework', '.', 'it', 'has', 'a', 'vivid', 'soundmix', '.', 'but', 'at', 'almost', 'two', '-', 'and', '-', 'a', '-', 'half', 'hours', ',', 'i', 'could', 'not', 'believe', 'how', 'little', 'actually', 'happened', 'over', 'the', 'course', 'of', 'the', 'story', '.', 'the', 'love', 'story', 'has', 'been', 'played', 'up', 'in', 'the', 'ads', ',', 'perhaps', 'hoping', 'to', 'catch', 'people', 'before', 'they', 'recover', 'from', 'titanic', '-', 'fever', '.', 'bollocks', '!', 'the', 'lovers', 'in', 'the', 'film', 'are', 'miles', 'apart', 'throughout', '-', 'erase', 'all', 'thoughts', 'of', 'nude', 'sketching', 'or', 'car', '-', 'sex', 'and', 'replace', 'them', 'with', 'obligatory', 'shots', 'of', 'liv', 'tyler', 'tearing', 'up', 'while', 'ben', 'affleck', 'dicks', 'around', 'in', 'a', 'moon', '-', 'crawler', '.', 'remember', 'a', 'little', 'film', 'called', 'jaws', '?', 'in', 'this', 'film', ',', 'three', 'independent', '-', 'minded', 'men', 'suddenly', 'found', 'themselves', 'on', 'a', 'fishing', 'boat', 'in', 'pursuit', 'of', 'a', 'deadly', 'shark', '.', 'they', 'didn', \"'\", 't', 'much', 'like', 'each', 'other', 'at', 'first', ';', 'eventually', ',', 'they', 'started', 'to', 'respect', 'one', 'another', '.', 'one', 'of', 'jaws', \"'\", 'great', 'scenes', 'involved', 'the', 'would', '-', 'be', '-', 'ahabs', 'drinking', 'and', 'singing', 'songs', 'and', 'telling', 'stories', '.', 'this', 'is', 'the', 'sort', 'of', 'male', '-', 'bonding', 'foreign', 'to', 'bay', 'or', 'his', 'producer', ',', 'jerry', 'bruckheimer', ',', 'who', 'throw', 'too', 'many', 'characters', 'into', 'the', 'mix', 'and', 'expect', 'we', \"'\", 'll', 'care', 'about', 'them', 'on', 'the', 'grounds', 'that', 'the', 'world', 'is', 'about', 'to', 'end', '.', 'not', 'once', 'do', 'we', 'get', 'the', 'feeling', 'that', 'these', 'characters', 'are', 'even', 'acquaintances', '-', 'i', \"'\", 'd', 'be', 'surprised', 'if', 'these', 'actors', 'bothered', 'to', 'introduce', 'themselves', 'to', 'one', 'another', 'before', '\"', 'action', '\"', 'was', 'called', '.', 'a', 'male', 'friend', 'who', 'loved', 'the', 'film', 'suggested', 'to', 'me', 'that', 'perhaps', 'i', 'cannot', 'relate', 'to', 'a', 'bunch', 'of', 'men', 'who', 'don', \"'\", 't', 'bare', 'their', 'souls', ',', 'who', 'believe', 'in', 'dying', 'macho', 'concepts', 'like', 'heroism', 'and', 'a', 'kind', 'of', 'chest', '-', 'beating', 'bravery', '.', 'to', 'this', ',', 'i', 'will', 'respond', 'that', 'the', 'boys', 'in', 'armageddon', 'are', 'neither', 'heroic', ',', 'nor', 'brave', ',', 'nor', 'smart', ',', 'even', ':', 'this', 'team', 'couldn', \"'\", 't', 'build', 'a', 'birdhouse', '.', 'and', 'if', 'i', 'get', 'no', 'respect', 'for', 'disliking', 'a', 'movie', 'with', 'all', 'the', 'synthetic', 'feeling', 'of', 'a', 'trailer', '-', 'a', 'trailer', 'for', 'a', 'movie', 'written', 'by', 'a', 'team', 'of', 'body', '-', 'builders', 'and', 'greeting', 'card', 'authors', '-', 'i', \"'\", 've', 'never', 'been', 'a', 'prouder', 'wimp', 'my', 'whole', 'life', '.'], 'neg')\n"
          ]
        }
      ]
    },
    {
      "cell_type": "markdown",
      "metadata": {
        "id": "2JSuqg6uMvJT"
      },
      "source": [
        "Next, you will define a feature extractor for documents, so the classifier will know which aspects of the data it should pay attention too. In this case, you can define a feature for each word, indicating whether the document contains that word. To limit the number of features that the classifier needs to process, you start by constructing a list of the 2000 most frequent words in the overall corpus. You can then define a feature extractor that simply checks if each of these words is present in a given document."
      ]
    },
    {
      "cell_type": "code",
      "execution_count": 8,
      "metadata": {
        "id": "1Kqr1tRbMvJV",
        "colab": {
          "base_uri": "https://localhost:8080/"
        },
        "outputId": "8564506b-e0aa-4d07-94fe-6c6fb994cbf6"
      },
      "outputs": [
        {
          "output_type": "stream",
          "name": "stdout",
          "text": [
            "[',', 'the', '.', 'a', 'and', 'of', 'to', \"'\", 'is', 'in', 's', '\"', 'it', 'that', '-', ')', '(', 'as', 'with', 'for', 'his', 'this', 'film', 'i', 'he', 'but', 'on', 'are', 't', 'by', 'be', 'one', 'movie', 'an', 'who', 'not', 'you', 'from', 'at', 'was', 'have', 'they', 'has', 'her', 'all', '?', 'there', 'like', 'so', 'out', 'about', 'up', 'more', 'what', 'when', 'which', 'or', 'she', 'their', ':', 'some', 'just', 'can', 'if', 'we', 'him', 'into', 'even', 'only', 'than', 'no', 'good', 'time', 'most', 'its', 'will', 'story', 'would', 'been', 'much', 'character', 'also', 'get', 'other', 'do', 'two', 'well', 'them', 'very', 'characters', ';', 'first', '--', 'after', 'see', '!', 'way', 'because', 'make', 'life', 'off', 'too', 'any', 'does', 'really', 'had', 'while', 'films', 'how', 'plot', 'little', 'where', 'people', 'over', 'could', 'then', 'me', 'scene', 'man', 'bad', 'my', 'never', 'being', 'best', 'these', 'don', 'new', 'doesn', 'scenes', 'many', 'director', 'such', 'know', 'were', 'movies', 'through', 'here', 'action', 'great', 're', 'another', 'love', 'go', 'made', 'us', 'big', 'end', 'something', 'back', '*', 'still', 'world', 'seems', 'work', 'those', 'makes', 'now', 'before', 'however', 'between', 'few', '/', 'down', 'every', 'though', 'better', 'real', 'audience', 'enough', 'seen', 'take', 'around', 'both', 'going', 'year', 'performance', 'why', 'should', 'role', 'isn', 'same', 'old', 'gets', 'your', 'may', 'things', 'think', 'years', 'last', 'comedy', 'funny', 'actually', 've', 'long', 'look', 'almost', 'own', 'thing', 'fact', 'nothing', 'say', 'right', 'john', 'although', 'played', 'find', 'script', 'come', 'ever', 'cast', 'since', 'did', 'star', 'plays', 'young', 'show', 'comes', 'm', 'part', 'original', 'actors', 'screen', 'without', 'again', 'acting', 'three', 'day', 'each', 'point', 'lot', 'least', 'takes', 'guy', 'quite', 'himself', 'away', 'during', 'family', 'effects', 'course', 'goes', 'minutes', 'interesting', 'might', 'far', 'high', 'rather', 'once', 'must', 'anything', 'place', 'set', 'yet', 'watch', 'd', 'making', 'our', 'wife', 'hard', 'always', 'fun', 'didn', 'll', 'seem', 'special', 'bit', 'times', 'trying', 'hollywood', 'instead', 'give', 'want', 'picture', 'kind', 'american', 'job', 'sense', 'woman', 'home', 'having', 'series', 'actor', 'probably', 'help', 'half', 'along', 'men', 'everything', 'pretty', 'becomes', 'sure', 'black', 'together', 'dialogue', 'money', 'become', 'gives', 'given', 'looking', 'whole', 'watching', 'father', '`', 'feel', 'everyone', 'music', 'wants', 'sex', 'less', 'done', 'horror', 'got', 'death', 'perhaps', 'city', 'next', 'especially', 'play', 'girl', 'mind', '10', 'moments', 'looks', 'completely', '2', 'reason', 'mother', 'whose', 'line', 'night', 'human', 'until', 'rest', 'performances', 'different', 'evil', 'small', 'james', 'simply', 'couple', 'put', 'let', 'anyone', 'ending', 'case', 'several', 'dead', 'michael', 'left', 'thought', 'school', 'shows', 'humor', 'true', 'lost', 'written', 'itself', 'friend', 'entire', 'getting', 'town', 'turns', 'soon', 'someone', 'second', 'main', 'stars', 'found', 'use', 'problem', 'friends', 'tv', 'top', 'name', 'begins', 'called', 'based', 'comic', 'david', 'head', 'else', 'idea', 'either', 'wrong', 'unfortunately', 'later', 'final', 'hand', 'alien', 'house', 'group', 'full', 'used', 'tries', 'often', 'against', 'war', 'sequence', 'keep', 'turn', 'playing', 'boy', 'behind', 'named', 'certainly', 'live', 'believe', 'under', 'works', 'relationship', 'face', 'hour', 'run', 'style', 'said', 'despite', 'person', 'finally', 'shot', 'book', 'doing', 'tell', 'maybe', 'nice', 'son', 'perfect', 'side', 'seeing', 'able', 'finds', 'children', 'days', 'past', 'summer', 'camera', 'won', 'including', 'mr', 'kids', 'lives', 'directed', 'moment', 'game', 'running', 'fight', 'supposed', 'video', 'car', 'matter', 'kevin', 'joe', 'lines', 'worth', '=', 'daughter', 'earth', 'starts', 'need', 'entertaining', 'white', 'start', 'writer', 'dark', 'short', 'self', 'worst', 'nearly', 'opening', 'try', 'upon', 'care', 'early', 'violence', 'throughout', 'team', 'production', 'example', 'beautiful', 'title', 'exactly', 'jack', 'review', 'major', 'drama', '&', 'problems', 'sequences', 'obvious', 'version', 'screenplay', 'known', 'killer', 'wasn', 'robert', 'disney', 'already', 'close', 'classic', 'others', 'hit', 'kill', 'deep', 'five', 'order', 'act', 'simple', 'fine', 'themselves', 'heart', 'roles', 'jackie', 'direction', 'eyes', 'four', 'question', 'sort', 'sometimes', 'knows', 'supporting', 'coming', 'voice', 'women', 'truly', 'save', 'jokes', 'computer', 'child', 'o', 'boring', 'tom', 'level', '1', 'body', 'guys', 'genre', 'brother', 'strong', 'stop', 'room', 'space', 'lee', 'ends', 'beginning', 'ship', 'york', 'attempt', 'thriller', 'scream', 'peter', 'aren', 'husband', 'fiction', 'happens', 'hero', 'novel', 'note', 'hope', 'king', 'yes', 'says', 'tells', 'quickly', 'romantic', 'dog', 'oscar', 'stupid', 'possible', 'saw', 'lead', 'career', 'murder', 'extremely', 'manages', 'god', 'mostly', 'wonder', 'particularly', 'future', 'fans', 'sound', 'worse', 'piece', 'involving', 'de', 'appears', 'planet', 'paul', 'involved', 'mean', 'none', 'taking', 'hours', 'laugh', 'police', 'sets', 'attention', 'co', 'hell', 'eventually', 'single', 'fall', 'falls', 'material', 'emotional', 'power', 'late', 'lack', 'dr', 'van', 'result', 'elements', 'meet', 'smith', 'science', 'experience', 'bring', 'wild', 'living', 'theater', 'interest', 'leads', 'word', 'feature', 'battle', 'girls', 'alone', 'obviously', 'george', 'within', 'usually', 'enjoy', 'guess', 'among', 'taken', 'feeling', 'laughs', 'aliens', 'talk', 'chance', 'talent', '3', 'middle', 'number', 'easy', 'across', 'needs', 'attempts', 'happen', 'television', 'chris', 'deal', 'poor', 'form', 'girlfriend', 'viewer', 'release', 'killed', 'forced', 'whether', 'wonderful', 'feels', 'oh', 'tale', 'serious', 'expect', 'except', 'light', 'success', 'features', 'premise', 'happy', 'words', 'leave', 'important', 'meets', 'history', 'giving', 'crew', 'type', 'call', 'turned', 'released', 'parents', 'art', 'impressive', 'mission', 'working', 'seemed', 'score', 'told', 'recent', 'robin', 'basically', 'entertainment', 'america', '$', 'surprise', 'apparently', 'easily', 'ryan', 'cool', 'stuff', 'cop', 'change', 'williams', 'crime', 'office', 'parts', 'somehow', 'sequel', 'william', 'cut', 'die', 'jones', 'credits', 'batman', 'suspense', 'brings', 'events', 'reality', 'whom', 'local', 'talking', 'difficult', 'using', 'went', 'writing', 'remember', 'near', 'straight', 'hilarious', 'ago', 'certain', 'ben', 'kid', 'wouldn', 'slow', 'blood', 'mystery', 'complete', 'red', 'popular', 'effective', 'am', 'fast', 'flick', 'due', 'runs', 'gone', 'return', 'presence', 'quality', 'dramatic', 'filmmakers', 'age', 'brothers', 'business', 'general', 'rock', 'sexual', 'present', 'surprisingly', 'anyway', 'uses', '4', 'personal', 'figure', 'smart', 'ways', 'decides', 'annoying', 'begin', 'couldn', 'somewhat', 'shots', 'rich', 'minute', 'law', 'previous', 'jim', 'successful', 'harry', 'water', 'similar', 'absolutely', 'motion', 'former', 'strange', 'came', 'follow', 'read', 'project', 'million', 'secret', 'starring', 'clear', 'familiar', 'romance', 'intelligent', 'third', 'excellent', 'amazing', 'party', 'budget', 'eye', 'actress', 'prison', 'latest', 'means', 'company', 'towards', 'predictable', 'powerful', 'nor', 'bob', 'beyond', 'visual', 'leaves', 'r', 'nature', 'following', 'villain', 'leaving', 'animated', 'low', 'myself', 'b', 'bill', 'sam', 'filled', 'wars', 'questions', 'cinema', 'message', 'box', 'moving', 'herself', 'country', 'usual', 'martin', 'definitely', 'add', 'large', 'clever', 'create', 'felt', 'stories', 'brilliant', 'ones', 'giant', 'situation', 'murphy', 'break', 'opens', 'scary', 'doubt', 'drug', 'bunch', 'thinking', 'solid', 'effect', 'learn', 'move', 'force', 'potential', 'seriously', 'follows', 'above', 'saying', 'huge', 'class', 'plan', 'agent', 'created', 'unlike', 'pay', 'non', 'married', 'mark', 'sweet', 'perfectly', 'ex', 'realize', 'audiences', 'took', 'decent', 'likely', 'dream', 'view', 'scott', 'subject', 'understand', 'happened', 'enjoyable', 'studio', 'immediately', 'open', 'e', 'points', 'heard', 'viewers', 'cameron', 'truman', 'bruce', 'frank', 'private', 'stay', 'fails', 'impossible', 'cold', 'richard', 'overall', 'merely', 'exciting', 'mess', 'chase', 'free', 'ten', 'neither', 'wanted', 'gun', 'appear', 'carter', 'escape', 'ultimately', '+', 'fan', 'inside', 'favorite', 'haven', 'modern', 'l', 'wedding', 'stone', 'trek', 'brought', 'trouble', 'otherwise', 'tim', '5', 'allen', 'bond', 'society', 'liked', 'dumb', 'musical', 'stand', 'political', 'various', 'talented', 'particular', 'west', 'state', 'keeps', 'english', 'silly', 'u', 'situations', 'park', 'teen', 'rating', 'slightly', 'steve', 'truth', 'air', 'element', 'joke', 'spend', 'key', 'biggest', 'members', 'effort', 'government', 'focus', 'eddie', 'soundtrack', 'hands', 'earlier', 'chan', 'purpose', 'today', 'showing', 'memorable', 'six', 'cannot', 'max', 'offers', 'rated', 'mars', 'heavy', 'totally', 'control', 'credit', 'fi', 'woody', 'ideas', 'sci', 'wait', 'sit', 'female', 'ask', 'waste', 'terrible', 'depth', 'simon', 'aspect', 'list', 'mary', 'sister', 'animation', 'entirely', 'fear', 'steven', 'moves', 'actual', 'army', 'british', 'constantly', 'fire', 'convincing', 'setting', 'gave', 'tension', 'street', '8', 'brief', 'ridiculous', 'cinematography', 'typical', 'nick', 'screenwriter', 'ability', 'spent', 'quick', 'violent', 'atmosphere', 'subtle', 'expected', 'fairly', 'seven', 'killing', 'tone', 'master', 'disaster', 'lots', 'thinks', 'song', 'cheap', 'suddenly', 'background', 'club', 'willis', 'whatever', 'highly', 'sees', 'complex', 'greatest', 'impact', 'beauty', 'front', 'humans', 'indeed', 'flat', 'grace', 'wrote', 'amusing', 'ii', 'mike', 'further', 'cute', 'dull', 'minor', 'recently', 'hate', 'outside', 'plenty', 'wish', 'godzilla', 'college', 'titanic', 'sounds', 'telling', 'sight', 'double', 'cinematic', 'queen', 'hold', 'meanwhile', 'awful', 'clearly', 'theme', 'hear', 'x', 'amount', 'baby', 'approach', 'dreams', 'shown', 'island', 'reasons', 'charm', 'miss', 'longer', 'common', 'sean', 'carry', 'believable', 'realistic', 'chemistry', 'possibly', 'casting', 'carrey', 'french', 'trailer', 'tough', 'produced', 'imagine', 'choice', 'ride', 'somewhere', 'hot', 'race', 'road', 'leader', 'thin', 'jerry', 'slowly', 'delivers', 'detective', 'brown', 'jackson', 'member', 'provide', 'president', 'puts', 'asks', 'critics', 'appearance', 'famous', 'okay', 'intelligence', 'energy', 'sent', 'spielberg', 'development', 'etc', 'language', 'blue', 'proves', 'vampire', 'seemingly', 'basic', 'caught', 'decide', 'opportunity', 'incredibly', 'images', 'band', 'j', 'writers', 'knew', 'interested', 'considering', 'boys', 'thanks', 'remains', 'climax', 'event', 'directing', 'conclusion', 'leading', 'ground', 'lies', 'forget', 'alive', 'tarzan', 'century', 'provides', 'trip', 'partner', 'central', 'tarantino', 'period', 'pace', 'yourself', 'worked', 'ready', 'date', 'thus', '1998', 'terrific', 'write', 'average', 'onto', 'songs', 'occasionally', 'doctor', 'stands', 'hardly', 'monster', 'led', 'mysterious', 'details', 'wasted', 'apart', 'aside', 'store', 'billy', 'boss', 'travolta', 'producer', 'pull', 'consider', 'pictures', 'becoming', 'cage', 'loud', 'looked', 'officer', 'twenty', 'system', 'contains', 'julia', 'subplot', 'missing', 'personality', 'building', 'learns', 'hong', 'la', 'apartment', '7', 'bizarre', 'powers', 'flaws', 'catch', 'lawyer', 'shoot', 'student', 'unique', '000', 'admit', 'concept', 'needed', 'thrown', 'christopher', 'laughing', 'green', 'twists', 'matthew', 'touch', 'waiting', 'victim', 'cover', 'machine', 'danny', 'mention', 'search', '1997', 'win', 'door', 'manner', 'train', 'saving', 'share', 'image', 'discovers', 'normal', 'cross', 'fox', 'returns', 'adult', 'adds', 'answer', 'adventure', 'lame', 'male', 'odd', 'singer', 'deserves', 'gore', 'states', 'include', 'equally', 'months', 'barely', 'directors', 'introduced', 'fashion', 'social', '1999', 'news', 'hair', 'dance', 'innocent', 'camp', 'teacher', 'became', 'sad', 'witch', 'includes', 'nights', 'jason', 'julie', 'latter', 'food', 'jennifer', 'land', 'menace', 'rate', 'storyline', 'contact', 'jean', 'elizabeth', 'fellow', 'changes', 'henry', 'hill', 'pulp', 'gay', 'tried', 'surprised', 'literally', 'walk', 'standard', '90', 'forward', 'wise', 'enjoyed', 'discover', 'pop', 'anderson', 'offer', 'recommend', 'public', 'drive', 'c', 'toy', 'charming', 'fair', 'chinese', 'rescue', 'terms', 'mouth', 'lucas', 'accident', 'dies', 'decided', 'edge', 'footage', 'culture', 'weak', 'presented', 'blade', 'younger', 'douglas', 'natural', 'born', 'generally', 'teenage', 'older', 'horrible', 'addition', 'sadly', 'creates', 'disturbing', 'roger', 'detail', 'devil', 'debut', 'track', 'developed', 'week', 'russell', 'attack', 'explain', 'rarely', 'fully', 'prove', 'exception', 'jeff', 'twist', 'gang', 'winning', 'jr', 'species', 'issues', 'fresh', 'rules', 'meaning', 'inspired', 'heroes', 'desperate', 'fighting', 'filmed', 'faces', 'alan', 'bright', 'ass', 'flying', 'kong', 'rush', 'forces', 'charles', 'numerous', 'emotions', 'involves', 'patrick', 'weird', 'apparent', 'information', 'revenge', 'jay', 'toward', 'surprising', 'twice', 'editing', 'calls', 'lose', 'vegas', 'stage', 'intended', 'gags', 'opinion', 'likes', 'crazy', 'owner', 'places', 'pair', 'genuine', 'epic', 'speak', 'throw', 'appeal', 'gibson', 'captain', 'military', '20', 'blair', 'nowhere', 'length', 'nicely', 'cause', 'pass', 'episode', 'kiss', 'arnold', 'please', 'hasn', 'phone', 'filmmaking', 'formula', 'boyfriend', 'talents', 'creating', 'kelly', 'buy', 'wide', 'fantasy', 'mood', 'heads', 'pathetic', 'lacks', 'loved', 'asked', 'mrs', 'witty', 'shakespeare', 'mulan', 'generation', 'affair', 'pieces', 'task', 'rare', 'kept', 'cameo', 'fascinating', 'ed', 'fbi', 'burton', 'incredible', 'accent', 'artist', 'superior', 'academy', 'thomas', 'spirit', 'technical', 'confusing', 'poorly', 'target', 'lover', 'woo', 'mentioned', 'theaters', 'plane', 'confused', 'dennis', 'rob', 'appropriate', 'christmas', 'considered', 'legend', 'shame', 'soul', 'matt', 'campbell', 'process', 'bottom', 'sitting', 'brain', 'creepy', '13', 'forever', 'dude', 'crap', 'superb', 'speech', 'ice', 'journey', 'masterpiece', 'intriguing', 'names', 'pick', 'speaking', 'virtually', 'award', 'worthy', 'marriage', 'deliver', 'cash', 'magic', 'respect', 'product', 'necessary', 'suppose', 'silent', 'pointless', 'station', 'affleck', 'dimensional', 'charlie', 'allows', 'avoid', 'meant', 'cops', 'attitude', 'relationships', 'hits', 'stephen', 'spends', 'relief', 'physical', 'count', 'reviews', 'appreciate', 'cliches', 'holds', 'pure', 'plans', 'limited', 'failed', 'pain', 'impression', 'unless', 'sub', '[', 'total', 'creature', 'viewing', 'loves', 'princess', 'kate', 'rising', 'woods', 'baldwin', 'angry', 'drawn', 'step', 'matrix', 'themes', 'satire', 'arts', ']', 'remake', 'wall', 'moral', 'color', 'ray', 'stuck', 'touching', 'wit', 'tony', 'hanks', 'continues', 'damn', 'nobody', 'cartoon', 'keeping', 'realized', 'criminal', 'unfunny', 'comedic', 'martial', 'disappointing', 'anti', 'graphic', 'stunning', 'actions', 'floor', 'emotion', 'soldiers', 'edward', 'comedies', 'driver', 'expectations', 'added', 'mad', 'angels', 'shallow', 'suspect', 'humorous', 'phantom', 'appealing', 'device', 'design', 'industry', 'reach', 'fat', 'blame', 'united', 'sign', 'portrayal', 'rocky', 'finale', 'grand', 'opposite', 'hotel', 'match', 'damme', 'speed', 'ok', 'loving', 'field', 'larry', 'urban', 'troopers', 'compared', 'apes', 'rose', 'falling', 'era', 'loses', 'adults', 'managed', 'dad', 'therefore', 'pg', 'results', 'guns', 'radio', 'lady', 'manage', 'spice', 'naked', 'started', 'intense', 'humanity', 'wonderfully', 'slasher', 'bland', 'imagination', 'walking', 'willing', 'horse', 'rent', 'mix', 'generated', 'g', 'utterly', 'scientist', 'washington', 'notice', 'players', 'teenagers', 'moore', 'board', 'price', 'frightening', 'tommy', 'spectacular', 'bored', 'jane', 'join', 'producers', 'johnny', 'zero', 'vampires', 'adaptation', 'dollars', 'parody', 'documentary', 'dvd', 'wayne', 'post', 'exist', 'matters', 'chosen', 'mel', 'attractive', 'plain', 'trust', 'safe', 'reading', 'hoping', 'protagonist', 'feelings', 'fate', 'finding', 'feet', 'visuals', 'spawn', 'compelling', 'hall', 'sympathetic', 'featuring', 'difference', 'professional', 'drugs', 'ford', 'shooting', 'gold', 'patch', 'build', 'boat', 'cruise', 'honest', 'media', 'flicks', 'bug', 'bringing', 'dangerous', 'watched', 'grant', 'smile', 'plus', 'shouldn', 'decision', 'visually', 'allow', 'starship', 'roberts', 'dying', 'portrayed', 'turning', 'believes', 'changed', 'shock', 'destroy', '30', 'crowd', 'broken', 'tired', 'fail', 'south', 'died', 'cult', 'fake', 'vincent', 'identity', 'sexy', 'hunt', 'jedi', 'flynt', 'alex', 'engaging', 'serve', 'snake', 'yeah', 'expecting', '100', 'decade', 'ups', 'constant', 'current', 'survive', 'jimmy', 'buddy', 'send', 'brooks', 'goofy', 'likable', 'humour', 'technology', 'files', 'babe', 'aspects', 'presents', 'kills', 'supposedly', 'eight', 'sandler', 'hospital', 'test', 'hidden', 'brian', 'books', 'promise', 'determined', 'professor', 'welcome', 'pleasure', 'succeeds', 'individual', 'annie', 'mob', 'ted', 'virus', 'content', 'gary', 'direct', 'contrived', 'carpenter', 'scale', 'sick', 'nasty', 'conflict', 'haunting', 'ghost', 'filmmaker', 'japanese', 'helps', 'fare', 'lucky', 'ultimate', 'window', 'support', 'goal', 'provided', 'genius', 'winner', 'taylor', 'fantastic', 'faith', 'lynch', 'fit', 'catherine', 'ms', 'paced', 'breaks', 'al', 'frame', 'travel', 'badly', 'available', 'cares', 'reeves', 'crash', 'driving', 'press', 'seagal', 'amy', '9', 'headed', 'instance', 'excuse', 'offensive', 'narrative', 'fault', 'bus', 'f', 'extreme', 'miller', 'guilty', 'grows', 'overly', 'liners', 'forgotten', 'ahead', 'accept', 'porn', 'directly', 'helen', 'began', 'lord', 'folks', 'mediocre', 'bar', 'surface', 'super', 'failure', '6', 'acted', 'quiet', 'laughable', 'sheer', 'security', 'emotionally', 'season', 'stuart', 'jail', 'deals', 'cheesy', 'court', 'beach', 'austin', 'model', 'outstanding', 'substance', 'nudity', 'slapstick', 'joan', 'reveal', 'placed', 'check', 'beast', 'hurt', 'bloody', 'acts', 'fame', 'meeting', 'nuclear', '1996', 'strength', 'center', 'funniest', 'standing', 'damon', 'clich', 'position', 'desire', 'driven', 'seat', 'stock', 'wondering', 'realizes', 'dealing', 'taste', 'routine', 'comparison', 'cinematographer', 'seconds', 'singing', 'gangster', 'responsible', 'football', 'remarkable', 'hunting', 'adams', 'fly', 'suspects', 'treat', 'hopes', 'heaven', 'myers', 'struggle', 'costumes', 'beat', 'happening', 'skills', 'ugly', 'figures', 'thoroughly', 'ill', 'surprises', 'player', 'rival', 'guard', 'anthony', 'strike', 'community', 'streets', 'hopkins', 'ended', 'originally', 'sarah', 'creative', 'characterization', 'thankfully', 'growing', 'sharp', 'williamson', 'eccentric', 'explained', 'hey', 'claire', 'steal', 'inevitable', 'joel', 'core', 'weren', 'sorry', 'built', 'anne', 'breaking', 'villains', 'critic', 'lets', 'visit', 'followed']\n"
          ]
        }
      ],
      "source": [
        "# Define the feature extractor\n",
        "\n",
        "all_words = nltk.FreqDist(w.lower() for w in movie_reviews.words())\n",
        "word_features = list(all_words)[:2000]\n",
        "\n",
        "print(word_features)"
      ]
    },
    {
      "cell_type": "code",
      "execution_count": 9,
      "metadata": {
        "collapsed": true,
        "id": "CkxPsJx-MvJX"
      },
      "outputs": [],
      "source": [
        "def document_features(document):\n",
        "    document_words = set(document)\n",
        "    features = {}\n",
        "    for word in word_features:\n",
        "        features['contains({})'.format(word)] = (word in document_words)\n",
        "    return features"
      ]
    },
    {
      "cell_type": "markdown",
      "metadata": {
        "id": "U2ljuzgKMvJY"
      },
      "source": [
        "You have defined the feature extractor. Now, you can use it to train a Naive Bayes classifier to predict the sentiments of new movie reviews. To check your classifier's performance, you will compute its accuracy on the test set. NLTK provides show_most_informative_features() to see which features the classifier found to be most informative."
      ]
    },
    {
      "cell_type": "code",
      "execution_count": 12,
      "metadata": {
        "id": "zAi4BOwmMvJZ"
      },
      "outputs": [],
      "source": [
        "# Train Naive Bayes classifier\n",
        "featuresets = [(document_features(d), c) for (d,c) in documents]\n",
        "train_set, test_set = featuresets[100:], featuresets[:100]\n",
        "classifier = nltk.NaiveBayesClassifier.train(train_set)"
      ]
    },
    {
      "cell_type": "code",
      "source": [
        "featuresets[0]"
      ],
      "metadata": {
        "id": "9ra1cuXNGbbb"
      },
      "execution_count": null,
      "outputs": []
    },
    {
      "cell_type": "code",
      "execution_count": 13,
      "metadata": {
        "id": "M4kZ4URiMvJb",
        "outputId": "9b7a25e3-78fc-4e46-94e1-90e5dde26042",
        "colab": {
          "base_uri": "https://localhost:8080/"
        }
      },
      "outputs": [
        {
          "output_type": "stream",
          "name": "stdout",
          "text": [
            "0.81\n"
          ]
        }
      ],
      "source": [
        "# Test the classifier\n",
        "print(nltk.classify.accuracy(classifier, test_set))"
      ]
    },
    {
      "cell_type": "code",
      "execution_count": 14,
      "metadata": {
        "id": "Fi9eE__DMvJc",
        "outputId": "711cb925-643e-4465-c327-14d959134f75",
        "colab": {
          "base_uri": "https://localhost:8080/"
        }
      },
      "outputs": [
        {
          "output_type": "stream",
          "name": "stdout",
          "text": [
            "Most Informative Features\n",
            "   contains(outstanding) = True              pos : neg    =     10.7 : 1.0\n",
            "         contains(mulan) = True              pos : neg    =      8.9 : 1.0\n",
            "        contains(seagal) = True              neg : pos    =      7.9 : 1.0\n",
            "   contains(wonderfully) = True              pos : neg    =      6.7 : 1.0\n",
            "         contains(damon) = True              pos : neg    =      6.0 : 1.0\n"
          ]
        }
      ],
      "source": [
        "# Show the most important features as interpreted by Naive Bayes\n",
        "classifier.show_most_informative_features(5)"
      ]
    },
    {
      "cell_type": "markdown",
      "metadata": {
        "id": "uCdnhiYKMvJd"
      },
      "source": [
        "Naive Bayes suffers from a certain disadvantage as well:\n",
        "The main limitation of Naive Bayes is the assumption of independent predictors. In real life, it is almost impossible that you get a set of predictors which are entirely independent."
      ]
    },
    {
      "cell_type": "markdown",
      "metadata": {
        "id": "iJKweFrpMvJe"
      },
      "source": [
        "This tutorial hopefully gave you a head-start in one of the prime sub-fields of NLP, i.e. Sentiment Analysis. You covered one of the most fundamental topics of NLP - Bag of Words and then studied Naive Bayes Classifier in a detailed manner. You examined its shortcomings as well. You used nltk, one of the most popular Python libraries for NLP and NLU tasks. You implemented a simple Naive Bayes classifier with the movie corpus that nltk provides. Give yourself a round of applause. You deserve it!"
      ]
    }
  ],
  "metadata": {
    "kernelspec": {
      "display_name": "Python 3",
      "language": "python",
      "name": "python3"
    },
    "language_info": {
      "codemirror_mode": {
        "name": "ipython",
        "version": 3
      },
      "file_extension": ".py",
      "mimetype": "text/x-python",
      "name": "python",
      "nbconvert_exporter": "python",
      "pygments_lexer": "ipython3",
      "version": "3.6.8"
    },
    "colab": {
      "provenance": []
    }
  },
  "nbformat": 4,
  "nbformat_minor": 0
}